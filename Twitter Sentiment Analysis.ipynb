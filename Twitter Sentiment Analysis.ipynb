{
 "cells": [
  {
   "cell_type": "markdown",
   "metadata": {},
   "source": [
    "# Presidential Debate Twitter Sentiment Analysis using TextBlob"
   ]
  },
  {
   "cell_type": "code",
   "execution_count": 150,
   "metadata": {},
   "outputs": [],
   "source": [
    "import tweepy as tw\n",
    "import numpy as np\n",
    "import pandas as pd\n",
    "from matplotlib import pyplot as plt"
   ]
  },
  {
   "cell_type": "code",
   "execution_count": 151,
   "metadata": {},
   "outputs": [],
   "source": [
    "#Consumer Twitter developer account details[Keys have been modified for confidential purpose]\n",
    "consumer_key='5bl7Z7mWfhOiTJAXXXXXXXXXX'\n",
    "consumer_secret='9sFe3tVfudQDzTSaJSuiTlUe6azyKXNMZKTVlEH7XXXXXXXXXX'\n",
    "access_token='1336316945658855427-xqTVVj09Va0Nck7uqmXMXXXXXXXXXX'\n",
    "access_token_secret='Y57n1qyxDpiZtgAMzVUKinl3wHc6zNz2ormXXXXXXXXXX'"
   ]
  },
  {
   "cell_type": "markdown",
   "metadata": {},
   "source": [
    "# Authentication"
   ]
  },
  {
   "cell_type": "code",
   "execution_count": 152,
   "metadata": {},
   "outputs": [],
   "source": [
    "auth=tw.OAuthHandler(consumer_key, consumer_secret)\n",
    "auth.set_access_token(access_token,access_token_secret)\n",
    "api=tw.API(auth)"
   ]
  },
  {
   "cell_type": "markdown",
   "metadata": {},
   "source": [
    "# Get Tweets"
   ]
  },
  {
   "cell_type": "code",
   "execution_count": 154,
   "metadata": {},
   "outputs": [
    {
     "name": "stdout",
     "output_type": "stream",
     "text": [
      "[{'Tweets': 'RT @GiannoCaldwell: Black and Latino men are listening. @JoeBiden’s policies have devastated communities of color. @realDonaldTrump made st…', 'Timestamp': datetime.datetime(2020, 12, 9, 5, 54, 50)}, {'Tweets': '#herdmentality #iVoted\\xa0 #imspeaking #ImStillWithHer #JoeBiden #JoeWillLeadUs #KamalaHarris #Kenosha #LincolnProject… https://t.co/6xqRhIRptz', 'Timestamp': datetime.datetime(2020, 12, 9, 5, 52, 17)}, {'Tweets': 'RT @WMulina: I may be a bit overly excited for this debate!  🤓 #PresidentialDebate #PresidentialDebate2020 #Debates2020 #Debatenight @realD…', 'Timestamp': datetime.datetime(2020, 12, 9, 5, 24, 11)}, {'Tweets': \"RT @sillymickel: Biden's cool!\\n\\nLove his style!\\n\\n#WilkesBarrePennsylvania #ScrantonPensylvania \\n\\n#FBR #resist #TrumpMassMurderer #Biden2020…\", 'Timestamp': datetime.datetime(2020, 12, 9, 3, 35, 16)}, {'Tweets': \"RT @chadfelixg: I'm happy with @realDonaldTrump's performance as President.\\n\\nIn researching my book, I delved into more than 160 anti-LGBT…\", 'Timestamp': datetime.datetime(2020, 12, 8, 6, 17, 30)}, {'Tweets': \"RT @chadfelixg: I'm happy with @realDonaldTrump's performance as President.\\n\\nIn researching my book, I delved into more than 160 anti-LGBT…\", 'Timestamp': datetime.datetime(2020, 12, 7, 22, 54, 47)}, {'Tweets': '#PresidentialDebate2020 @colmedchile 🏥\\n\\nhttps://t.co/9JU9qERYbh', 'Timestamp': datetime.datetime(2020, 12, 7, 22, 46, 4)}, {'Tweets': 'RT @HoodedMan: Never Biden never Trump https://t.co/SLWvm30qUP #Debates2020 #PresidentialDebate2020 #GreenParty2020 #HawkinsWalker2020', 'Timestamp': datetime.datetime(2020, 12, 7, 18, 14, 36)}, {'Tweets': 'RT @the_ironsheik: I DONT KNOW MUCH BUT I KNOW YOU ALL CAN GO FUCK YOURSELF #PresidentialDebate2020', 'Timestamp': datetime.datetime(2020, 12, 7, 15, 41, 2)}, {'Tweets': 'RT @Miinnister: #Endsars protest will restart on Monday 26/10/2020 in various states as follows:\\n\\nLagos\\nRivers State\\nEnugu\\nAbia State\\nBenin…', 'Timestamp': datetime.datetime(2020, 12, 7, 7, 17, 24)}, {'Tweets': 'RT @HoodedMan: Never Biden never Trump https://t.co/SLWvm30qUP #Debates2020 #PresidentialDebate2020 #GreenParty2020 #HawkinsWalker2020', 'Timestamp': datetime.datetime(2020, 12, 7, 1, 52, 25)}, {'Tweets': 'RT @HoodedMan: Never Biden never Trump https://t.co/SLWvm30qUP #Debates2020 #PresidentialDebate2020 #GreenParty2020 #HawkinsWalker2020', 'Timestamp': datetime.datetime(2020, 12, 6, 22, 56, 55)}, {'Tweets': \"RT @chadfelixg: I'm happy with @realDonaldTrump's performance as President.\\n\\nIn researching my book, I delved into more than 160 anti-LGBT…\", 'Timestamp': datetime.datetime(2020, 12, 6, 19, 2, 18)}, {'Tweets': 'RT @HoodedMan: Never Biden never Trump https://t.co/SLWvm30qUP #Debates2020 #PresidentialDebate2020 #GreenParty2020 #HawkinsWalker2020', 'Timestamp': datetime.datetime(2020, 12, 6, 18, 30, 48)}, {'Tweets': 'RT @salwangeorges: People watch the final Presidential Debate on a @Delta flight from Detroit to Washington D.C. #Election2020 #Debate2020…', 'Timestamp': datetime.datetime(2020, 12, 6, 8, 27, 50)}, {'Tweets': 'RT @pomemaruyk: 次の大統領選挙はいつなんだ〜⁉️\\nおれも出馬しちゃおっかな〜🐶😝\\n\\n#ポメラニアン #大統領選挙 #AmericaFirst  #Trump  #Biden #PresidentialDebate2020 #President  #Preside…', 'Timestamp': datetime.datetime(2020, 12, 6, 4, 27, 23)}, {'Tweets': 'RT @HoodedMan: Never Biden never Trump https://t.co/SLWvm30qUP #Debates2020 #PresidentialDebate2020 #GreenParty2020 #HawkinsWalker2020', 'Timestamp': datetime.datetime(2020, 12, 6, 3, 54, 16)}, {'Tweets': 'RT @ecosociMag: 1. In a mafia gangs, everyone listens to the mafia bosses. \\n\\n2. In #hierarchy company / #classes society, all listen to bos…', 'Timestamp': datetime.datetime(2020, 12, 6, 0, 51, 36)}, {'Tweets': 'RT @pomemaruyk: 次の大統領選挙はいつなんだ〜⁉️\\nおれも出馬しちゃおっかな〜🐶😝\\n\\n#ポメラニアン #大統領選挙 #AmericaFirst  #Trump  #Biden #PresidentialDebate2020 #President  #Preside…', 'Timestamp': datetime.datetime(2020, 12, 5, 23, 48, 56)}, {'Tweets': '次の大統領選挙はいつなんだ〜⁉️\\nおれも出馬しちゃおっかな〜🐶😝\\n\\n#ポメラニアン #大統領選挙 #AmericaFirst  #Trump  #Biden #PresidentialDebate2020 #President… https://t.co/fG88hTZWrR', 'Timestamp': datetime.datetime(2020, 12, 5, 23, 41, 17)}, {'Tweets': 'RT @HoodedMan: Never Biden never Trump https://t.co/SLWvm30qUP #Debates2020 #PresidentialDebate2020 #GreenParty2020 #HawkinsWalker2020', 'Timestamp': datetime.datetime(2020, 12, 5, 23, 9, 47)}, {'Tweets': 'RT @owoyimikafestus: PLEASE MY TWITTER FAMILY MAY GOD BLESS YOUR HUSTLE AS YOU HELP RETWEET MY HUSTLE ❤❤💓\\n\\nDM OPEN 24/7\\nCONTACT WHATSAPP: 0…', 'Timestamp': datetime.datetime(2020, 12, 5, 20, 11, 1)}, {'Tweets': 'RT @owoyimikafestus: PLEASE MY TWITTER FAMILY MAY GOD BLESS YOUR HUSTLE AS YOU HELP RETWEET MY HUSTLE ❤❤💓\\n\\nDM OPEN 24/7\\nCONTACT WHATSAPP: 0…', 'Timestamp': datetime.datetime(2020, 12, 5, 20, 10, 21)}, {'Tweets': 'RT @TheRavingChef: I’d officially like to nominate @joerogan to be the moderator at the next #PresidentialDebate2020 #2020debate #2020moder…', 'Timestamp': datetime.datetime(2020, 12, 5, 19, 1, 35)}, {'Tweets': 'RT @PolitiFact: Full fact-checking of the 1st #PresidentialDebate2020: \\n\\nTrump dusted off some of the falsehoods from his COVID-19 talking…', 'Timestamp': datetime.datetime(2020, 12, 5, 9, 57, 15)}, {'Tweets': \"RT @chadfelixg: I'm happy with @realDonaldTrump's performance as President.\\n\\nIn researching my book, I delved into more than 160 anti-LGBT…\", 'Timestamp': datetime.datetime(2020, 12, 5, 6, 29, 45)}, {'Tweets': \"RT @chadfelixg: I'm happy with @realDonaldTrump's performance as President.\\n\\nIn researching my book, I delved into more than 160 anti-LGBT…\", 'Timestamp': datetime.datetime(2020, 12, 5, 4, 37, 11)}, {'Tweets': 'RT @HoodedMan: Never Biden never Trump https://t.co/SLWvm30qUP #Debates2020 #PresidentialDebate2020 #GreenParty2020 #HawkinsWalker2020', 'Timestamp': datetime.datetime(2020, 12, 5, 1, 53, 12)}, {'Tweets': 'RT @HoodedMan: Never Biden never Trump https://t.co/SLWvm30qUP #Debates2020 #PresidentialDebate2020 #GreenParty2020 #HawkinsWalker2020', 'Timestamp': datetime.datetime(2020, 12, 5, 1, 49, 42)}, {'Tweets': 'RT @HoodedMan: Never Biden never Trump https://t.co/SLWvm30qUP #Debates2020 #PresidentialDebate2020 #GreenParty2020 #HawkinsWalker2020', 'Timestamp': datetime.datetime(2020, 12, 4, 22, 17, 13)}, {'Tweets': \"RT @chadfelixg: I'm happy with @realDonaldTrump's performance as President.\\n\\nIn researching my book, I delved into more than 160 anti-LGBT…\", 'Timestamp': datetime.datetime(2020, 12, 4, 17, 4, 58)}, {'Tweets': 'RT @HoodedMan: Never Biden never Trump https://t.co/SLWvm30qUP #Debates2020 #PresidentialDebate2020 #GreenParty2020 #HawkinsWalker2020', 'Timestamp': datetime.datetime(2020, 12, 4, 16, 40, 48)}, {'Tweets': 'RT @Canice100K: #MarquisSpeaks on the #PresidentialDebate2020\\n➖➖\\n#NoMoreQuestions #Biden #Trump #ChrisWallace #Debates2020 https://t.co/zCz…', 'Timestamp': datetime.datetime(2020, 12, 4, 13, 54, 40)}, {'Tweets': '@AndyBrown1_ @RebellionPill @CarbonBrief @metoffice @guardianeco PS; THANK FULLY USA has now got @JoeBiden and… https://t.co/840JFKQbfi', 'Timestamp': datetime.datetime(2020, 12, 4, 13, 35, 8)}, {'Tweets': '#PresidentialDebate2020\\n#LekkiMassacre2020\\n#AfricaIsBleeding\\n#COVID19\\n#MaishaConcertFriday\\n#DebateTonight… https://t.co/VDJDM7KHWd', 'Timestamp': datetime.datetime(2020, 12, 4, 8, 15, 3)}, {'Tweets': '#WHITETERRORIST #AmericanTerrorist #failvote  #failurevote #hackingvote #jackingvotes #AmericasGreatestMistake… https://t.co/Q4bhAMCB87', 'Timestamp': datetime.datetime(2020, 12, 3, 22, 27, 24)}, {'Tweets': '#WHITETERRORIST #AmericanTerrorist #failvote  #failurevote #hackingvote #jackingvotes #AmericasGreatestMistake… https://t.co/zKYofhxKWr', 'Timestamp': datetime.datetime(2020, 12, 3, 22, 26, 34)}, {'Tweets': 'RT @DavidLance3: This is how I or really anyone can envision certain people watching back #FemiOluwole &amp; #OwenJones’ answer to the first #p…', 'Timestamp': datetime.datetime(2020, 12, 3, 21, 46, 40)}, {'Tweets': 'RT @TruthPodcastQE: 🚨New Episode!!!🚨\\n\\n\"President Biden?\"🤪\\n\\nWatch the full episode here: https://t.co/HQXAjw4O6J\\n\\n#PresidentialDebate2020 #P…', 'Timestamp': datetime.datetime(2020, 12, 3, 21, 38, 29)}, {'Tweets': 'This is how I or really anyone can envision certain people watching back #FemiOluwole &amp; #OwenJones’ answer to the f… https://t.co/Mv9KAdq6mK', 'Timestamp': datetime.datetime(2020, 12, 3, 19, 33, 20)}, {'Tweets': 'RT @sunnyncool77: #debates #PresidentialDebate2020 #Debate2020 https://t.co/CgrJQp8oE1', 'Timestamp': datetime.datetime(2020, 12, 3, 16, 49, 48)}, {'Tweets': 'RT @Lisa78999694: Trump has truly become a great statesman!!! Trump 2020!!! Gives us all hope!#PresidentialDebate2020', 'Timestamp': datetime.datetime(2020, 12, 3, 12, 1, 22)}, {'Tweets': 'RT @darensammy88: #keepyappingman 😂😂😂😂😂 #PresidentialDebate2020', 'Timestamp': datetime.datetime(2020, 12, 3, 7, 41, 38)}, {'Tweets': 'RT @ScottBaio: #PresidentialDebate2020 https://t.co/BMmVlAwvcb', 'Timestamp': datetime.datetime(2020, 12, 3, 1, 3, 8)}, {'Tweets': 'RT @hautehistorian: If @realDonaldTrump wins a second term, the most important thing he wants you to take away from his inaugural speech is…', 'Timestamp': datetime.datetime(2020, 12, 2, 14, 42, 16)}, {'Tweets': 'NEW CHRISTMAS RENEGADE RAIDER😱\\n\\n#fortnite #fortniteLeaks #FortniteSeason4 #FortniteNexusWar #trump #TrumpvsBiden… https://t.co/E23mqX7RVp', 'Timestamp': datetime.datetime(2020, 12, 2, 5, 35, 32)}, {'Tweets': 'NEW FISH STICK XMAS SKIN😱\\n\\n#fortnite #fortniteLeaks #FortniteSeason4 #FortniteNexusWar #trump #TrumpvsBiden… https://t.co/RQM27qp59r', 'Timestamp': datetime.datetime(2020, 12, 2, 5, 32, 22)}, {'Tweets': 'TILTED TOWERS IS BACK😱\\n\\n#fortnite #fortniteLeaks #FortniteSeason4 #FortniteNexusWar #trump #TrumpvsBiden… https://t.co/tcHJFV68yU', 'Timestamp': datetime.datetime(2020, 12, 2, 5, 23, 59)}, {'Tweets': 'Fortnite new map leaked😱\\n\\n#fortnite #fortniteLeaks #FortniteSeason4 #FortniteNexusWar #trump #TrumpvsBiden… https://t.co/0hDA0Q6HgT', 'Timestamp': datetime.datetime(2020, 12, 2, 5, 23, 8)}, {'Tweets': 'NEW POI\\n\\n#fortnite #fortniteLeaks #FortniteSeason4 #FortniteNexusWar #trump #TrumpvsBiden #fortnitenews… https://t.co/UlmgdLGYw6', 'Timestamp': datetime.datetime(2020, 12, 2, 5, 20, 58)}, {'Tweets': 'NEW GUNS SEASON 5😱\\n\\n#fortnite #fortniteLeaks #FortniteSeason4 #FortniteNexusWar #trump #TrumpvsBiden #fortnitenews… https://t.co/dFzrQ31PZu', 'Timestamp': datetime.datetime(2020, 12, 2, 5, 16, 41)}, {'Tweets': 'NEW SEASON 5 WEAPONS😱\\n\\n#fortnite #fortniteLeaks #FortniteSeason4 #FortniteNexusWar #trump #TrumpvsBiden… https://t.co/3pCgz66KMe', 'Timestamp': datetime.datetime(2020, 12, 2, 5, 15, 33)}, {'Tweets': \"RT @chadfelixg: I'm happy with @realDonaldTrump's performance as President.\\n\\nIn researching my book, I delved into more than 160 anti-LGBT…\", 'Timestamp': datetime.datetime(2020, 12, 1, 23, 46, 28)}, {'Tweets': 'RT @AazaadSatyam: Hahahaha !!\\n\\nWho did this ? \\n\\nSomeone said 2 kids fighting.\\n\\n#MAGA2020\\n#BidenTrumpDebate #PresidentialDebate2020 https://…', 'Timestamp': datetime.datetime(2020, 12, 1, 19, 47, 47)}, {'Tweets': 'RT @teflonseann: The #PresidentialDebate2020 so far https://t.co/P9n4WHNYLR', 'Timestamp': datetime.datetime(2020, 11, 30, 23, 52, 19)}, {'Tweets': 'RT @thegbcghana: \"One police officer, one car; One journalist, one car.\" \\n\\nAkua Donkor\\n#PresidentialDebate2020 https://t.co/geQasx1pWK', 'Timestamp': datetime.datetime(2020, 11, 30, 23, 29, 12)}, {'Tweets': 'RT @thegbcghana: \"One police officer, one car; One journalist, one car.\" \\n\\nAkua Donkor\\n#PresidentialDebate2020 https://t.co/geQasx1pWK', 'Timestamp': datetime.datetime(2020, 11, 30, 23, 7, 57)}, {'Tweets': '@justinbieber: RT \\n@ladygaga: #PresidentialDebate2020\\n#TRAMP\\n#ICANTSTOPMEEnglishVer\\n#PresidentBiden… https://t.co/IQvpt846sD', 'Timestamp': datetime.datetime(2020, 11, 30, 22, 23, 47)}, {'Tweets': 'RT @thegbcghana: 📸  PHOTOS \\n\\n#PresidentialDebate2020 #GBCGHANAONLINE https://t.co/Pk7XQfF5WL', 'Timestamp': datetime.datetime(2020, 11, 30, 22, 21, 29)}, {'Tweets': 'RT @thegbcghana: 📸  PHOTOS\\n\\n#PresidentialDebate2020 #GBCGHANAONLINE https://t.co/qMVEJzArOm', 'Timestamp': datetime.datetime(2020, 11, 30, 22, 20, 1)}, {'Tweets': '\"We will scrap Ex-gratia. We will ban pair trawling.\" \\n\\nIvor Greenstreet, CPP Presidential Candidate.… https://t.co/z649784avi', 'Timestamp': datetime.datetime(2020, 11, 30, 22, 19, 53)}, {'Tweets': 'RT @thegbcghana: \"One police officer, one car; One journalist, one car.\" \\n\\nAkua Donkor\\n#PresidentialDebate2020 https://t.co/geQasx1pWK', 'Timestamp': datetime.datetime(2020, 11, 30, 22, 17, 1)}, {'Tweets': 'RT @thegbcghana: \"Jehovah’s Witnesses will not enjoy freebies under my government,\" Akua Donkor, GFP Presidential Candidate. \\n\\n#Presidentia…', 'Timestamp': datetime.datetime(2020, 11, 30, 22, 16, 48)}, {'Tweets': '📸  PHOTOS \\n\\n#PresidentialDebate2020 #GBCGHANAONLINE https://t.co/Pk7XQfF5WL', 'Timestamp': datetime.datetime(2020, 11, 30, 22, 16, 12)}, {'Tweets': 'RT @thegbcghana: \"Jehovah’s Witnesses will not enjoy freebies under my government,\" Akua Donkor, GFP Presidential Candidate. \\n\\n#Presidentia…', 'Timestamp': datetime.datetime(2020, 11, 30, 22, 16, 11)}, {'Tweets': 'RT @thegbcghana: \"One police officer, one car; One journalist, one car.\" \\n\\nAkua Donkor\\n#PresidentialDebate2020 https://t.co/geQasx1pWK', 'Timestamp': datetime.datetime(2020, 11, 30, 22, 6, 37)}, {'Tweets': 'RT @thegbcghana: \"One police officer, one car; One journalist, one car.\" \\n\\nAkua Donkor\\n#PresidentialDebate2020 https://t.co/geQasx1pWK', 'Timestamp': datetime.datetime(2020, 11, 30, 22, 6, 2)}, {'Tweets': 'Which of the presidential candidate said their given $100 nu.. make some bro help o, I want collect some la #PresidentialDebate2020', 'Timestamp': datetime.datetime(2020, 11, 30, 22, 5, 59)}, {'Tweets': 'RT @thegbcghana: \"One police officer, one car; One journalist, one car.\" \\n\\nAkua Donkor\\n#PresidentialDebate2020 https://t.co/geQasx1pWK', 'Timestamp': datetime.datetime(2020, 11, 30, 22, 0)}, {'Tweets': 'RT @thegbcghana: \"One police officer, one car; One journalist, one car.\" \\n\\nAkua Donkor\\n#PresidentialDebate2020 https://t.co/geQasx1pWK', 'Timestamp': datetime.datetime(2020, 11, 30, 21, 56, 56)}, {'Tweets': 'RT @thegbcghana: \"Jehovah’s Witnesses will not enjoy freebies under my government,\" Akua Donkor, GFP Presidential Candidate. \\n\\n#Presidentia…', 'Timestamp': datetime.datetime(2020, 11, 30, 21, 56, 54)}, {'Tweets': '\"Jehovah’s Witnesses will not enjoy freebies under my government,\" Akua Donkor, GFP Presidential Candidate. \\n\\n#PresidentialDebate2020', 'Timestamp': datetime.datetime(2020, 11, 30, 21, 54, 33)}, {'Tweets': '\"One police officer, one car; One journalist, one car.\" \\n\\nAkua Donkor\\n#PresidentialDebate2020 https://t.co/geQasx1pWK', 'Timestamp': datetime.datetime(2020, 11, 30, 21, 51, 24)}, {'Tweets': 'Akua Donkor change the topic from health to police 😆😆😆😆😆\\n#PresidentialDebate2020', 'Timestamp': datetime.datetime(2020, 11, 30, 21, 47, 45)}, {'Tweets': '📸  PHOTOS\\n\\n#PresidentialDebate2020 #GBCGHANAONLINE https://t.co/qMVEJzArOm', 'Timestamp': datetime.datetime(2020, 11, 30, 21, 44, 35)}, {'Tweets': \"My mother have come oooo\\nAkua Donkor dey flow basaaa😆😆😆😆😆#Presidentialdebate2020\\nAkua Donkor see a n'asem baako oooo😆😆😆😆🔥\", 'Timestamp': datetime.datetime(2020, 11, 30, 21, 39, 20)}, {'Tweets': 'RT @thegbcghana: #PresidentialDebate2020 #GBCGHANAONLINE https://t.co/V8bt5XFaWi', 'Timestamp': datetime.datetime(2020, 11, 30, 21, 30, 35)}, {'Tweets': '#PresidentialDebate2020 #GBCGHANAONLINE https://t.co/V8bt5XFaWi', 'Timestamp': datetime.datetime(2020, 11, 30, 21, 29, 21)}, {'Tweets': '\"We are producing graduates that we don\\'t need, graduates that can only read, write, and pass exams. We need to inc… https://t.co/4eK0H6yaLM', 'Timestamp': datetime.datetime(2020, 11, 30, 21, 14, 34)}, {'Tweets': '#PresidentialDebate2020 #GBCGHANAONLINE https://t.co/tRAz1kYVsR', 'Timestamp': datetime.datetime(2020, 11, 30, 21, 10, 21)}, {'Tweets': '\"Previous governments and current government have borrowed $39 billion. We need to find solutions to come out of de… https://t.co/LgpmX3hcn3', 'Timestamp': datetime.datetime(2020, 11, 30, 21, 7, 54)}, {'Tweets': '\"The problem is we don\\'t have entrepreneurs having access to capitals. We don\\'t have a credit economy,\" kofi Akpalo… https://t.co/JZVkUozzcE', 'Timestamp': datetime.datetime(2020, 11, 30, 21, 2, 54)}, {'Tweets': '\"An educated society is a strong society. We will start free education at the primary level. You can\\'t have Free SH… https://t.co/CogUmzffuN', 'Timestamp': datetime.datetime(2020, 11, 30, 20, 58, 57)}, {'Tweets': '\"We spend too much than we earn. If you can\\'t produce, you can\\'t earn. We should go organic,\" Dr. Henry Herbert Lar… https://t.co/pFmhRgNLjR', 'Timestamp': datetime.datetime(2020, 11, 30, 20, 51, 34)}, {'Tweets': 'Akua Donkor 😂😂😂\\n\\n#PresidentialDebate2020', 'Timestamp': datetime.datetime(2020, 11, 30, 20, 43, 45)}, {'Tweets': '#PresidentialDebate2020 #GBCGHANAONLINE https://t.co/2HYNg8DZIh', 'Timestamp': datetime.datetime(2020, 11, 30, 20, 34, 31)}, {'Tweets': 'RT @thegbcghana: #PresidentialDebate2020 #GBCGHANAONLINE https://t.co/jDtNMSpFAN', 'Timestamp': datetime.datetime(2020, 11, 30, 20, 32, 5)}, {'Tweets': '#PresidentialDebate2020 #GBCGHANAONLINE https://t.co/jDtNMSpFAN', 'Timestamp': datetime.datetime(2020, 11, 30, 20, 28, 45)}, {'Tweets': '\"I am going to put money directly into people\\'s pocket. Every child below 18 years will receive ¢200 a month. Those… https://t.co/6OvUHTwHNs', 'Timestamp': datetime.datetime(2020, 11, 30, 20, 20, 45)}, {'Tweets': 'GBC/NCCE Presidential Debate 2020 is live on GTV/GBC News. \\n\\nIt is about knowing the candidate that can best manage… https://t.co/b88TGKKsvJ', 'Timestamp': datetime.datetime(2020, 11, 30, 20, 18, 1)}, {'Tweets': \"RT @ThatGuyBoston: Can someone remind @JoeBiden it's Mr. President not Donald.  #PresidentialDebate2020 @realDonaldTrump  #Debates2020 #deb…\", 'Timestamp': datetime.datetime(2020, 11, 30, 17, 1, 7)}, {'Tweets': 'RT @RealCandaceO: Unbelievable. Every person in America knows these riots are being orchestrated by black lives matter and Antifa. \\n\\nChris…', 'Timestamp': datetime.datetime(2020, 11, 30, 16, 15, 10)}, {'Tweets': 'RT @RealCandaceO: Unbelievable. Every person in America knows these riots are being orchestrated by black lives matter and Antifa. \\n\\nChris…', 'Timestamp': datetime.datetime(2020, 11, 30, 16, 12, 33)}, {'Tweets': 'Showing tonight on GTV/GBC News. \\n\\nThe Presidential debate will also be live on all GBC Regional FM Stations across… https://t.co/rhAXgwaFBc', 'Timestamp': datetime.datetime(2020, 11, 30, 14, 8, 9)}, {'Tweets': 'Showing tonight on GTV/GBC News. The Presidential debate will also be live on all GBC Regional FM Stations across t… https://t.co/TGIjTVBMSx', 'Timestamp': datetime.datetime(2020, 11, 30, 14, 6, 8)}]\n"
     ]
    }
   ],
   "source": [
    "#Scraping tweets with the hashtag of #PresindtialDebate2020\n",
    "hashtag=' #PresidentialDebate2020'\n",
    "query=tw.Cursor(api.search, q=hashtag).items(100)\n",
    "tweets=[{'Tweets':tweet.text,'Timestamp':tweet.created_at } for tweet in query]\n",
    "print(tweets)"
   ]
  },
  {
   "cell_type": "code",
   "execution_count": 155,
   "metadata": {},
   "outputs": [],
   "source": [
    "df=pd.DataFrame.from_dict(tweets)"
   ]
  },
  {
   "cell_type": "code",
   "execution_count": 157,
   "metadata": {},
   "outputs": [
    {
     "data": {
      "text/plain": [
       "'#herdmentality #iVoted\\xa0 #imspeaking #ImStillWithHer #JoeBiden #JoeWillLeadUs #KamalaHarris #Kenosha #LincolnProject… https://t.co/6xqRhIRptz'"
      ]
     },
     "execution_count": 157,
     "metadata": {},
     "output_type": "execute_result"
    }
   ],
   "source": [
    "df['Tweets'][1]"
   ]
  },
  {
   "cell_type": "code",
   "execution_count": 158,
   "metadata": {},
   "outputs": [],
   "source": [
    "#Candidate names references to extract details of favourabe candidates\n",
    "trump_refs=['Donaldtrump','Donald trump', 'Donald', 'Trump', 'Trump\\s']\n",
    "biden_refs=['JoeBiden','Joe Biden', 'Joe', 'Biden', 'Biden\\s']"
   ]
  },
  {
   "cell_type": "code",
   "execution_count": 159,
   "metadata": {},
   "outputs": [],
   "source": [
    "#Function to raise flag as 1 when a candidate name is mentioned in particular tweet\n",
    "def identify(tweet, refs):\n",
    "    flag=0\n",
    "    for ref in refs:\n",
    "        if tweet.find(ref)!=-1:\n",
    "            flag=1\n",
    "    return flag\n",
    "\n",
    "df['Trump']=df['Tweets'].apply(lambda x: identify(x, trump_refs))\n",
    "df['Biden']=df['Tweets'].apply(lambda x: identify(x, biden_refs))"
   ]
  },
  {
   "cell_type": "markdown",
   "metadata": {},
   "source": [
    "# Preprocess"
   ]
  },
  {
   "cell_type": "code",
   "execution_count": 197,
   "metadata": {},
   "outputs": [],
   "source": [
    "import nltk\n",
    "from textblob import Word, TextBlob\n",
    "from nltk.stem.porter import PorterStemmer\n",
    "from nltk.stem import WordNetLemmatizer\n",
    "import re\n",
    "import pandas as pd\n",
    "from nltk.corpus import stopwords\n",
    "from tensorflow.keras.layers import Embedding"
   ]
  },
  {
   "cell_type": "code",
   "execution_count": 162,
   "metadata": {
    "scrolled": true
   },
   "outputs": [
    {
     "name": "stderr",
     "output_type": "stream",
     "text": [
      "[nltk_data] Downloading package wordnet to C:\\Users\\Mohammed\n",
      "[nltk_data]     Shreef\\AppData\\Roaming\\nltk_data...\n",
      "[nltk_data]   Package wordnet is already up-to-date!\n",
      "[nltk_data] Downloading package stopwords to C:\\Users\\Mohammed\n",
      "[nltk_data]     Shreef\\AppData\\Roaming\\nltk_data...\n",
      "[nltk_data]   Package stopwords is already up-to-date!\n"
     ]
    },
    {
     "data": {
      "text/plain": [
       "True"
      ]
     },
     "execution_count": 162,
     "metadata": {},
     "output_type": "execute_result"
    }
   ],
   "source": [
    "nltk.download('wordnet')\n",
    "nltk.download('stopwords')"
   ]
  },
  {
   "cell_type": "code",
   "execution_count": 163,
   "metadata": {},
   "outputs": [],
   "source": [
    "custom_stopwords=['RT', '#2020 US Election']"
   ]
  },
  {
   "cell_type": "code",
   "execution_count": 164,
   "metadata": {},
   "outputs": [],
   "source": [
    "stop_words=stopwords.words('english')"
   ]
  },
  {
   "cell_type": "code",
   "execution_count": 166,
   "metadata": {},
   "outputs": [
    {
     "data": {
      "text/html": [
       "<div>\n",
       "<style scoped>\n",
       "    .dataframe tbody tr th:only-of-type {\n",
       "        vertical-align: middle;\n",
       "    }\n",
       "\n",
       "    .dataframe tbody tr th {\n",
       "        vertical-align: top;\n",
       "    }\n",
       "\n",
       "    .dataframe thead th {\n",
       "        text-align: right;\n",
       "    }\n",
       "</style>\n",
       "<table border=\"1\" class=\"dataframe\">\n",
       "  <thead>\n",
       "    <tr style=\"text-align: right;\">\n",
       "      <th></th>\n",
       "      <th>Tweets</th>\n",
       "      <th>Timestamp</th>\n",
       "      <th>Trump</th>\n",
       "      <th>Biden</th>\n",
       "      <th>Processed Tweet</th>\n",
       "    </tr>\n",
       "  </thead>\n",
       "  <tbody>\n",
       "    <tr>\n",
       "      <th>0</th>\n",
       "      <td>RT @GiannoCaldwell: Black and Latino men are l...</td>\n",
       "      <td>2020-12-09 05:54:50</td>\n",
       "      <td>1</td>\n",
       "      <td>1</td>\n",
       "      <td>@GiannoCaldwell: Black Latino men listening. @...</td>\n",
       "    </tr>\n",
       "    <tr>\n",
       "      <th>1</th>\n",
       "      <td>#herdmentality #iVoted  #imspeaking #ImStillWi...</td>\n",
       "      <td>2020-12-09 05:52:17</td>\n",
       "      <td>0</td>\n",
       "      <td>1</td>\n",
       "      <td>#herdmentality #iVoted #imspeaking #ImStillWit...</td>\n",
       "    </tr>\n",
       "    <tr>\n",
       "      <th>2</th>\n",
       "      <td>RT @WMulina: I may be a bit overly excited for...</td>\n",
       "      <td>2020-12-09 05:24:11</td>\n",
       "      <td>0</td>\n",
       "      <td>0</td>\n",
       "      <td>@WMulina: I may bit overly excited debate! 🤓 #...</td>\n",
       "    </tr>\n",
       "    <tr>\n",
       "      <th>3</th>\n",
       "      <td>RT @sillymickel: Biden's cool!\\n\\nLove his sty...</td>\n",
       "      <td>2020-12-09 03:35:16</td>\n",
       "      <td>1</td>\n",
       "      <td>1</td>\n",
       "      <td>@sillymickel: Biden's cool! Love style! #Wilke...</td>\n",
       "    </tr>\n",
       "    <tr>\n",
       "      <th>4</th>\n",
       "      <td>RT @chadfelixg: I'm happy with @realDonaldTrum...</td>\n",
       "      <td>2020-12-08 06:17:30</td>\n",
       "      <td>1</td>\n",
       "      <td>0</td>\n",
       "      <td>@chadfelixg: I'm happy @realDonaldTrump's perf...</td>\n",
       "    </tr>\n",
       "  </tbody>\n",
       "</table>\n",
       "</div>"
      ],
      "text/plain": [
       "                                              Tweets           Timestamp  \\\n",
       "0  RT @GiannoCaldwell: Black and Latino men are l... 2020-12-09 05:54:50   \n",
       "1  #herdmentality #iVoted  #imspeaking #ImStillWi... 2020-12-09 05:52:17   \n",
       "2  RT @WMulina: I may be a bit overly excited for... 2020-12-09 05:24:11   \n",
       "3  RT @sillymickel: Biden's cool!\\n\\nLove his sty... 2020-12-09 03:35:16   \n",
       "4  RT @chadfelixg: I'm happy with @realDonaldTrum... 2020-12-08 06:17:30   \n",
       "\n",
       "   Trump  Biden                                    Processed Tweet  \n",
       "0      1      1  @GiannoCaldwell: Black Latino men listening. @...  \n",
       "1      0      1  #herdmentality #iVoted #imspeaking #ImStillWit...  \n",
       "2      0      0  @WMulina: I may bit overly excited debate! 🤓 #...  \n",
       "3      1      1  @sillymickel: Biden's cool! Love style! #Wilke...  \n",
       "4      1      0  @chadfelixg: I'm happy @realDonaldTrump's perf...  "
      ]
     },
     "execution_count": 166,
     "metadata": {},
     "output_type": "execute_result"
    }
   ],
   "source": [
    "#Function for removing punctuations,stopwords and doing lemmatization on every word of text\n",
    "def preprocess_tweets(tweet, custom_stopwords):\n",
    "    preprocessed_tweet=tweet\n",
    "    preprocessed_tweet.replace('[^\\w\\s]', '')\n",
    "    preprocessed_tweet=' '.join(word for word in preprocessed_tweet.split() if word not in stop_words)\n",
    "    preprocessed_tweet=' '.join(word for word in preprocessed_tweet.split() if word not in custom_stopwords)\n",
    "    preprocessed_tweet=' '.join(Word(word).lemmatize() for word in preprocessed_tweet.split())\n",
    "    return(preprocessed_tweet)\n",
    "df['Processed Tweet']=df['Tweets'].apply(lambda x: preprocess_tweets(x, custom_stopwords))\n",
    "df.head()"
   ]
  },
  {
   "cell_type": "markdown",
   "metadata": {},
   "source": [
    "# calculate Sentiment"
   ]
  },
  {
   "cell_type": "code",
   "execution_count": 170,
   "metadata": {},
   "outputs": [],
   "source": [
    "df['polarity']=df['Processed Tweet'].apply(lambda x: TextBlob(x).sentiment[0])\n",
    "df['subjectivity']=df['Processed Tweet'].apply(lambda x: TextBlob(x).sentiment[1])"
   ]
  },
  {
   "cell_type": "code",
   "execution_count": 83,
   "metadata": {},
   "outputs": [
    {
     "data": {
      "text/html": [
       "<div>\n",
       "<style scoped>\n",
       "    .dataframe tbody tr th:only-of-type {\n",
       "        vertical-align: middle;\n",
       "    }\n",
       "\n",
       "    .dataframe tbody tr th {\n",
       "        vertical-align: top;\n",
       "    }\n",
       "\n",
       "    .dataframe thead th {\n",
       "        text-align: right;\n",
       "    }\n",
       "</style>\n",
       "<table border=\"1\" class=\"dataframe\">\n",
       "  <thead>\n",
       "    <tr style=\"text-align: right;\">\n",
       "      <th></th>\n",
       "      <th>Tweets</th>\n",
       "      <th>Timestamp</th>\n",
       "      <th>Trump</th>\n",
       "      <th>Biden</th>\n",
       "      <th>Processed Tweet</th>\n",
       "      <th>polarity</th>\n",
       "      <th>subjectivity</th>\n",
       "    </tr>\n",
       "  </thead>\n",
       "  <tbody>\n",
       "    <tr>\n",
       "      <th>0</th>\n",
       "      <td>RT @GiannoCaldwell: Black and Latino men are l...</td>\n",
       "      <td>2020-12-09 05:54:50</td>\n",
       "      <td>1</td>\n",
       "      <td>1</td>\n",
       "      <td>RT @GiannoCaldwell: Black Latino men listening...</td>\n",
       "      <td>-0.166667</td>\n",
       "      <td>0.433333</td>\n",
       "    </tr>\n",
       "    <tr>\n",
       "      <th>1</th>\n",
       "      <td>#herdmentality #iVoted  #imspeaking #ImStillWi...</td>\n",
       "      <td>2020-12-09 05:52:17</td>\n",
       "      <td>0</td>\n",
       "      <td>0</td>\n",
       "      <td>#herdmentality #iVoted #imspeaking #ImStillWit...</td>\n",
       "      <td>0.000000</td>\n",
       "      <td>0.000000</td>\n",
       "    </tr>\n",
       "    <tr>\n",
       "      <th>2</th>\n",
       "      <td>RT @WMulina: I may be a bit overly excited for...</td>\n",
       "      <td>2020-12-09 05:24:11</td>\n",
       "      <td>0</td>\n",
       "      <td>0</td>\n",
       "      <td>RT @WMulina: I may bit overly excited debate! ...</td>\n",
       "      <td>0.468750</td>\n",
       "      <td>0.750000</td>\n",
       "    </tr>\n",
       "    <tr>\n",
       "      <th>3</th>\n",
       "      <td>RT @sillymickel: Biden's cool!\\n\\nLove his sty...</td>\n",
       "      <td>2020-12-09 03:35:16</td>\n",
       "      <td>1</td>\n",
       "      <td>1</td>\n",
       "      <td>RT @sillymickel: Biden's cool! Love style! #Wi...</td>\n",
       "      <td>0.531250</td>\n",
       "      <td>0.625000</td>\n",
       "    </tr>\n",
       "    <tr>\n",
       "      <th>4</th>\n",
       "      <td>RT @chadfelixg: I'm happy with @realDonaldTrum...</td>\n",
       "      <td>2020-12-08 06:17:30</td>\n",
       "      <td>1</td>\n",
       "      <td>1</td>\n",
       "      <td>RT @chadfelixg: I'm happy @realDonaldTrump's p...</td>\n",
       "      <td>0.800000</td>\n",
       "      <td>1.000000</td>\n",
       "    </tr>\n",
       "  </tbody>\n",
       "</table>\n",
       "</div>"
      ],
      "text/plain": [
       "                                              Tweets           Timestamp  \\\n",
       "0  RT @GiannoCaldwell: Black and Latino men are l... 2020-12-09 05:54:50   \n",
       "1  #herdmentality #iVoted  #imspeaking #ImStillWi... 2020-12-09 05:52:17   \n",
       "2  RT @WMulina: I may be a bit overly excited for... 2020-12-09 05:24:11   \n",
       "3  RT @sillymickel: Biden's cool!\\n\\nLove his sty... 2020-12-09 03:35:16   \n",
       "4  RT @chadfelixg: I'm happy with @realDonaldTrum... 2020-12-08 06:17:30   \n",
       "\n",
       "   Trump  Biden                                    Processed Tweet  polarity  \\\n",
       "0      1      1  RT @GiannoCaldwell: Black Latino men listening... -0.166667   \n",
       "1      0      0  #herdmentality #iVoted #imspeaking #ImStillWit...  0.000000   \n",
       "2      0      0  RT @WMulina: I may bit overly excited debate! ...  0.468750   \n",
       "3      1      1  RT @sillymickel: Biden's cool! Love style! #Wi...  0.531250   \n",
       "4      1      1  RT @chadfelixg: I'm happy @realDonaldTrump's p...  0.800000   \n",
       "\n",
       "   subjectivity  \n",
       "0      0.433333  \n",
       "1      0.000000  \n",
       "2      0.750000  \n",
       "3      0.625000  \n",
       "4      1.000000  "
      ]
     },
     "execution_count": 83,
     "metadata": {},
     "output_type": "execute_result"
    }
   ],
   "source": [
    "df.head()"
   ]
  },
  {
   "cell_type": "markdown",
   "metadata": {},
   "source": [
    "Statistics of each candidate"
   ]
  },
  {
   "cell_type": "code",
   "execution_count": 171,
   "metadata": {},
   "outputs": [
    {
     "data": {
      "text/html": [
       "<div>\n",
       "<style scoped>\n",
       "    .dataframe tbody tr th:only-of-type {\n",
       "        vertical-align: middle;\n",
       "    }\n",
       "\n",
       "    .dataframe tbody tr th {\n",
       "        vertical-align: top;\n",
       "    }\n",
       "\n",
       "    .dataframe thead tr th {\n",
       "        text-align: left;\n",
       "    }\n",
       "\n",
       "    .dataframe thead tr:last-of-type th {\n",
       "        text-align: right;\n",
       "    }\n",
       "</style>\n",
       "<table border=\"1\" class=\"dataframe\">\n",
       "  <thead>\n",
       "    <tr>\n",
       "      <th></th>\n",
       "      <th colspan=\"4\" halign=\"left\">polarity</th>\n",
       "      <th colspan=\"4\" halign=\"left\">subjectivity</th>\n",
       "    </tr>\n",
       "    <tr>\n",
       "      <th></th>\n",
       "      <th>mean</th>\n",
       "      <th>amax</th>\n",
       "      <th>amin</th>\n",
       "      <th>median</th>\n",
       "      <th>mean</th>\n",
       "      <th>amax</th>\n",
       "      <th>amin</th>\n",
       "      <th>median</th>\n",
       "    </tr>\n",
       "    <tr>\n",
       "      <th>Trump</th>\n",
       "      <th></th>\n",
       "      <th></th>\n",
       "      <th></th>\n",
       "      <th></th>\n",
       "      <th></th>\n",
       "      <th></th>\n",
       "      <th></th>\n",
       "      <th></th>\n",
       "    </tr>\n",
       "  </thead>\n",
       "  <tbody>\n",
       "    <tr>\n",
       "      <th>1</th>\n",
       "      <td>0.252722</td>\n",
       "      <td>1.0</td>\n",
       "      <td>-0.166667</td>\n",
       "      <td>0.136364</td>\n",
       "      <td>0.372922</td>\n",
       "      <td>1.0</td>\n",
       "      <td>0.0</td>\n",
       "      <td>0.454545</td>\n",
       "    </tr>\n",
       "  </tbody>\n",
       "</table>\n",
       "</div>"
      ],
      "text/plain": [
       "       polarity                          subjectivity                    \n",
       "           mean amax      amin    median         mean amax amin    median\n",
       "Trump                                                                    \n",
       "1      0.252722  1.0 -0.166667  0.136364     0.372922  1.0  0.0  0.454545"
      ]
     },
     "metadata": {},
     "output_type": "display_data"
    },
    {
     "data": {
      "text/html": [
       "<div>\n",
       "<style scoped>\n",
       "    .dataframe tbody tr th:only-of-type {\n",
       "        vertical-align: middle;\n",
       "    }\n",
       "\n",
       "    .dataframe tbody tr th {\n",
       "        vertical-align: top;\n",
       "    }\n",
       "\n",
       "    .dataframe thead tr th {\n",
       "        text-align: left;\n",
       "    }\n",
       "\n",
       "    .dataframe thead tr:last-of-type th {\n",
       "        text-align: right;\n",
       "    }\n",
       "</style>\n",
       "<table border=\"1\" class=\"dataframe\">\n",
       "  <thead>\n",
       "    <tr>\n",
       "      <th></th>\n",
       "      <th colspan=\"4\" halign=\"left\">polarity</th>\n",
       "      <th colspan=\"4\" halign=\"left\">subjectivity</th>\n",
       "    </tr>\n",
       "    <tr>\n",
       "      <th></th>\n",
       "      <th>mean</th>\n",
       "      <th>amax</th>\n",
       "      <th>amin</th>\n",
       "      <th>median</th>\n",
       "      <th>mean</th>\n",
       "      <th>amax</th>\n",
       "      <th>amin</th>\n",
       "      <th>median</th>\n",
       "    </tr>\n",
       "    <tr>\n",
       "      <th>Biden</th>\n",
       "      <th></th>\n",
       "      <th></th>\n",
       "      <th></th>\n",
       "      <th></th>\n",
       "      <th></th>\n",
       "      <th></th>\n",
       "      <th></th>\n",
       "      <th></th>\n",
       "    </tr>\n",
       "  </thead>\n",
       "  <tbody>\n",
       "    <tr>\n",
       "      <th>1</th>\n",
       "      <td>0.06363</td>\n",
       "      <td>0.53125</td>\n",
       "      <td>-0.166667</td>\n",
       "      <td>0.0</td>\n",
       "      <td>0.166745</td>\n",
       "      <td>0.625</td>\n",
       "      <td>0.0</td>\n",
       "      <td>0.0</td>\n",
       "    </tr>\n",
       "  </tbody>\n",
       "</table>\n",
       "</div>"
      ],
      "text/plain": [
       "      polarity                           subjectivity                   \n",
       "          mean     amax      amin median         mean   amax amin median\n",
       "Biden                                                                   \n",
       "1      0.06363  0.53125 -0.166667    0.0     0.166745  0.625  0.0    0.0"
      ]
     },
     "metadata": {},
     "output_type": "display_data"
    }
   ],
   "source": [
    "display(df[df['Trump']==1][['Trump','polarity','subjectivity']].groupby('Trump').agg([np.mean, np.max, np.min, np.median]))\n",
    "display(df[df['Biden']==1][['Biden','polarity','subjectivity']].groupby('Biden').agg([np.mean, np.max, np.min, np.median]))"
   ]
  },
  {
   "cell_type": "markdown",
   "metadata": {},
   "source": [
    "# Visualise"
   ]
  },
  {
   "cell_type": "code",
   "execution_count": 190,
   "metadata": {},
   "outputs": [],
   "source": [
    "biden=df[df['Biden']==1][['Timestamp','polarity']]\n",
    "biden=biden.sort_values(by='Timestamp', ascending=True)\n",
    "biden['MA polarity']=biden.polarity.rolling(10, min_periods=3).mean()\n",
    "\n",
    "trump=df[df['Trump']==1][['Timestamp','polarity']]\n",
    "trump=trump.sort_values(by='Timestamp', ascending=True)\n",
    "trump['MA polarity']=trump.polarity.rolling(10, min_periods=3).mean()"
   ]
  },
  {
   "cell_type": "code",
   "execution_count": 198,
   "metadata": {},
   "outputs": [
    {
     "data": {
      "text/html": [
       "<div>\n",
       "<style scoped>\n",
       "    .dataframe tbody tr th:only-of-type {\n",
       "        vertical-align: middle;\n",
       "    }\n",
       "\n",
       "    .dataframe tbody tr th {\n",
       "        vertical-align: top;\n",
       "    }\n",
       "\n",
       "    .dataframe thead th {\n",
       "        text-align: right;\n",
       "    }\n",
       "</style>\n",
       "<table border=\"1\" class=\"dataframe\">\n",
       "  <thead>\n",
       "    <tr style=\"text-align: right;\">\n",
       "      <th></th>\n",
       "      <th>Timestamp</th>\n",
       "      <th>polarity</th>\n",
       "      <th>MA polarity</th>\n",
       "    </tr>\n",
       "  </thead>\n",
       "  <tbody>\n",
       "    <tr>\n",
       "      <th>90</th>\n",
       "      <td>2020-11-30 17:01:07</td>\n",
       "      <td>0.000000</td>\n",
       "      <td>NaN</td>\n",
       "    </tr>\n",
       "    <tr>\n",
       "      <th>53</th>\n",
       "      <td>2020-12-01 19:47:47</td>\n",
       "      <td>0.312500</td>\n",
       "      <td>NaN</td>\n",
       "    </tr>\n",
       "    <tr>\n",
       "      <th>52</th>\n",
       "      <td>2020-12-01 23:46:28</td>\n",
       "      <td>0.800000</td>\n",
       "      <td>0.370833</td>\n",
       "    </tr>\n",
       "    <tr>\n",
       "      <th>51</th>\n",
       "      <td>2020-12-02 05:15:33</td>\n",
       "      <td>0.136364</td>\n",
       "      <td>0.312216</td>\n",
       "    </tr>\n",
       "    <tr>\n",
       "      <th>50</th>\n",
       "      <td>2020-12-02 05:16:41</td>\n",
       "      <td>0.136364</td>\n",
       "      <td>0.277045</td>\n",
       "    </tr>\n",
       "  </tbody>\n",
       "</table>\n",
       "</div>"
      ],
      "text/plain": [
       "             Timestamp  polarity  MA polarity\n",
       "90 2020-11-30 17:01:07  0.000000          NaN\n",
       "53 2020-12-01 19:47:47  0.312500          NaN\n",
       "52 2020-12-01 23:46:28  0.800000     0.370833\n",
       "51 2020-12-02 05:15:33  0.136364     0.312216\n",
       "50 2020-12-02 05:16:41  0.136364     0.277045"
      ]
     },
     "execution_count": 198,
     "metadata": {},
     "output_type": "execute_result"
    }
   ],
   "source": [
    "trump.head()"
   ]
  },
  {
   "cell_type": "code",
   "execution_count": 196,
   "metadata": {},
   "outputs": [
    {
     "data": {
      "text/plain": [
       "Text(0.5, 0.98, 'Presidential Debate Analysis')"
      ]
     },
     "execution_count": 196,
     "metadata": {},
     "output_type": "execute_result"
    },
    {
     "data": {
      "image/png": "[encoded data removed]",
      "text/plain": [
       "<Figure size 936x720 with 2 Axes>"
      ]
     },
     "metadata": {
      "needs_background": "light"
     },
     "output_type": "display_data"
    }
   ],
   "source": [
    "fig, axes =plt.subplots(2,1, figsize=(13,10))\n",
    "axes[0].plot(biden['Timestamp'], biden['MA polarity'])\n",
    "axes[0].set_title('\\n'.join(['Biden 10 tweet moving averahe Polarity']))\n",
    "\n",
    "axes[1].plot(trump['Timestamp'], trump['MA polarity'], color='red')\n",
    "axes[1].set_title('\\n'.join(['trump 10 tweet moving averahe Polarity']))\n",
    "fig.suptitle('Presidential Debate Analysis')"
   ]
  },
  {
   "cell_type": "markdown",
   "metadata": {},
   "source": [
    "Considering above tweets between specific timestamp, Trump has got higher mean positive polarity(0.34) compared to that of Biden's(0.15)."
   ]
  }
 ],
 "metadata": {
  "kernelspec": {
   "display_name": "Python 3",
   "language": "python",
   "name": "python3"
  },
  "language_info": {
   "codemirror_mode": {
    "name": "ipython",
    "version": 3
   },
   "file_extension": ".py",
   "mimetype": "text/x-python",
   "name": "python",
   "nbconvert_exporter": "python",
   "pygments_lexer": "ipython3",
   "version": "3.8.3"
  }
 },
 "nbformat": 4,
 "nbformat_minor": 4
}
